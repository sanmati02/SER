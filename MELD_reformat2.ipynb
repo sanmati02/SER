{
 "cells": [
  {
   "cell_type": "code",
   "execution_count": 1,
   "metadata": {},
   "outputs": [
    {
     "name": "stdout",
     "output_type": "stream",
     "text": [
      "Requirement already satisfied: pandas in /media/storage/fishcount/simrin/miniconda3/envs/ser-env3/lib/python3.10/site-packages (2.2.3)\n",
      "Requirement already satisfied: ffmpeg-python in /media/storage/fishcount/simrin/miniconda3/envs/ser-env3/lib/python3.10/site-packages (0.2.0)\n",
      "Requirement already satisfied: numpy>=1.22.4 in /media/storage/fishcount/simrin/miniconda3/envs/ser-env3/lib/python3.10/site-packages (from pandas) (2.2.5)\n",
      "Requirement already satisfied: python-dateutil>=2.8.2 in /media/storage/fishcount/simrin/miniconda3/envs/ser-env3/lib/python3.10/site-packages (from pandas) (2.9.0.post0)\n",
      "Requirement already satisfied: pytz>=2020.1 in /media/storage/fishcount/simrin/miniconda3/envs/ser-env3/lib/python3.10/site-packages (from pandas) (2025.2)\n",
      "Requirement already satisfied: tzdata>=2022.7 in /media/storage/fishcount/simrin/miniconda3/envs/ser-env3/lib/python3.10/site-packages (from pandas) (2025.2)\n",
      "Requirement already satisfied: future in /media/storage/fishcount/simrin/miniconda3/envs/ser-env3/lib/python3.10/site-packages (from ffmpeg-python) (1.0.0)\n",
      "Requirement already satisfied: six>=1.5 in /media/storage/fishcount/simrin/miniconda3/envs/ser-env3/lib/python3.10/site-packages (from python-dateutil>=2.8.2->pandas) (1.17.0)\n"
     ]
    }
   ],
   "source": [
    "!pip install pandas ffmpeg-python\n",
    "import os\n",
    "import pandas as pd\n",
    "from ffmpeg import input as ffmpeg_input"
   ]
  },
  {
   "cell_type": "code",
   "execution_count": 25,
   "metadata": {},
   "outputs": [
    {
     "name": "stdout",
     "output_type": "stream",
     "text": [
      "=== Processing Audio Files ===\n"
     ]
    },
    {
     "name": "stderr",
     "output_type": "stream",
     "text": [
      "Checking folders: 100%|██████████| 1/1 [00:07<00:00,  7.42s/it]\n"
     ]
    },
    {
     "name": "stdout",
     "output_type": "stream",
     "text": [
      "\n",
      "=== Processing CSV Files ===\n"
     ]
    },
    {
     "name": "stderr",
     "output_type": "stream",
     "text": [
      "Merging CSVs: 100%|██████████| 1/1 [00:00<00:00, 58.56it/s]"
     ]
    },
    {
     "name": "stdout",
     "output_type": "stream",
     "text": [
      "\n",
      "✅ Successfully merged 9988 entries\n",
      "✅ Audio: Copied 9988 WAV files\n",
      "\n",
      "Merged CSV saved to: /media/storage/fishcount/SER/MELD.Raw/merged_data.csv\n",
      "Combined WAVs in: /media/storage/fishcount/SER/MELD.Raw/combined_wavs (21686 files)\n"
     ]
    },
    {
     "name": "stderr",
     "output_type": "stream",
     "text": [
      "\n"
     ]
    }
   ],
   "source": [
    "import os\n",
    "import shutil\n",
    "import pandas as pd\n",
    "from tqdm import tqdm  # For progress bars\n",
    "\n",
    "# ====== CONFIGURATION ======\n",
    "folder_paths = [\n",
    "    \"/media/storage/fishcount/SER/MELD.Raw/train\"\n",
    "    #\"/media/storage/fishcount/SER/MELD.Raw/dev_splits_complete\", \n",
    "    #\"/media/storage/fishcount/SER/MELD.Raw/output_repeated_splits_test\"\n",
    "]\n",
    "\n",
    "csv_paths = [\n",
    "    \"/media/storage/fishcount/SER/MELD.Raw/train_sent_emo_clean.csv\"\n",
    "    #\"/media/storage/fishcount/SER/MELD.Raw/dev_sent_emo.csv\",\n",
    "    #\"/media/storage/fishcount/SER/MELD.Raw/test_sent_emo.csv\"  # Fixed typo in path\n",
    "]\n",
    "\n",
    "output_wav_folder = \"/media/storage/fishcount/SER/MELD.Raw/combined_wavs\"\n",
    "output_csv = \"/media/storage/fishcount/SER/MELD.Raw/merged_data.csv\"\n",
    "\n",
    "# ====== AUDIO FILE MERGING ======\n",
    "print(\"=== Processing Audio Files ===\")\n",
    "os.makedirs(output_wav_folder, exist_ok=True)\n",
    "audio_files_copied = set()\n",
    "\n",
    "for folder in tqdm(folder_paths, desc=\"Checking folders\"):\n",
    "    if not os.path.exists(folder):\n",
    "        print(f\"\\n⚠️ Folder not found: {folder}\")\n",
    "        continue\n",
    "        \n",
    "    for file in tqdm(os.listdir(folder), desc=f\"Processing {os.path.basename(folder)}\", leave=False):\n",
    "        if file.lower().endswith('.wav'):\n",
    "            dest_path = os.path.join(output_wav_folder, file)\n",
    "            if file not in audio_files_copied:\n",
    "                try:\n",
    "                    shutil.copy2(os.path.join(folder, file), dest_path)\n",
    "                    audio_files_copied.add(file)\n",
    "                except Exception as e:\n",
    "                    print(f\"\\n⚠️ Failed to copy {file}: {str(e)}\")\n",
    "\n",
    "# ====== CSV DATA MERGING ======\n",
    "print(\"\\n=== Processing CSV Files ===\")\n",
    "dfs = []\n",
    "required_columns = [\n",
    "    'Sr No.', 'Utterance', 'Speaker', 'Emotion', \n",
    "    'Sentiment', 'Dialogue_ID', 'Utterance_ID',\n",
    "    'Season', 'Episode', 'StartTime', 'EndTime'\n",
    "]\n",
    "\n",
    "for csv_file in tqdm(csv_paths, desc=\"Merging CSVs\"):\n",
    "    if not os.path.exists(csv_file):\n",
    "        print(f\"\\n⚠️ CSV not found: {csv_file}\")\n",
    "        continue\n",
    "    \n",
    "    try:\n",
    "        df = pd.read_csv(csv_file)\n",
    "        # Validate required columns exist\n",
    "        if not all(col in df.columns for col in required_columns):\n",
    "            missing = [col for col in required_columns if col not in df.columns]\n",
    "            print(f\"\\n⚠️ Missing columns in {csv_file}: {missing}\")\n",
    "            continue\n",
    "            \n",
    "        dfs.append(df)\n",
    "    except Exception as e:\n",
    "        print(f\"\\n⚠️ Error reading {csv_file}: {str(e)}\")\n",
    "\n",
    "if dfs:\n",
    "    merged_df = pd.concat(dfs, ignore_index=True)\n",
    "    \n",
    "    # Advanced duplicate removal (considering audio may have multiple references)\n",
    "    # Keep first occurrence based on Utterance_ID + Dialogue_ID\n",
    "    merged_df = merged_df.drop_duplicates(\n",
    "        subset=['Utterance_ID', 'Dialogue_ID'], \n",
    "        keep='first'\n",
    "    )\n",
    "    \n",
    "    # Save with proper header\n",
    "    merged_df.to_csv(output_csv, index=False)\n",
    "    print(f\"\\n✅ Successfully merged {len(merged_df)} entries\")\n",
    "    print(f\"✅ Audio: Copied {len(audio_files_copied)} WAV files\")\n",
    "else:\n",
    "    print(\"\\n❌ Error: No valid CSV data was processed\")\n",
    "\n",
    "# Final validation\n",
    "if os.path.exists(output_csv):\n",
    "    print(f\"\\nMerged CSV saved to: {output_csv}\")\n",
    "if os.path.exists(output_wav_folder):\n",
    "    print(f\"Combined WAVs in: {output_wav_folder} ({len(os.listdir(output_wav_folder))} files)\")"
   ]
  },
  {
   "cell_type": "code",
   "execution_count": 29,
   "metadata": {},
   "outputs": [
    {
     "ename": "SyntaxError",
     "evalue": "unterminated string literal (detected at line 20) (257249400.py, line 20)",
     "output_type": "error",
     "traceback": [
      "\u001b[0;36m  Cell \u001b[0;32mIn[29], line 20\u001b[0;36m\u001b[0m\n\u001b[0;31m    train_csv = \"media/storage/fishcount/SER/MELD.Raw/trainsplitter.csv\u001b[0m\n\u001b[0m                ^\u001b[0m\n\u001b[0;31mSyntaxError\u001b[0m\u001b[0;31m:\u001b[0m unterminated string literal (detected at line 20)\n"
     ]
    }
   ],
   "source": [
    "import os\n",
    "import shutil\n",
    "import pandas as pd\n",
    "from sklearn.model_selection import train_test_split\n",
    "\n",
    "# ====== CONFIGURATION ======\n",
    "# Path to your existing merged data\n",
    "merged_csv = \"/media/storage/fishcount/SER/MELD.Raw/merged_data.csv\"\n",
    "combined_audio = \"/media/storage/fishcount/SER/MELD.Raw/combined_wavs\"\n",
    "\n",
    "# Output directories\n",
    "# output_base = \"/media/storage/fishcount/SER/MELD_Split\"\n",
    "# train_audio = os.path.join(output_base, \"train_now/wavs\")\n",
    "# test_audio = os.path.join(output_base, \"test_now/wavs\")\n",
    "# train_csv = os.path.join(output_base, \"train_now/train_sent_emo.csv\")\n",
    "# test_csv = os.path.join(output_base, \"test_now/test_sent_emo.csv\")\n",
    "\n",
    "train_audio = \"/media/storage/fishcount/SER/MELD.Raw/trainsplit\"\n",
    "test_audio = \"/media/storage/fishcount/SER/MELD.Raw/testsplit\"\n",
    "train_csv = \"/media/storage/fishcount/SER/MELD.Raw/trainsplitter.csv\n",
    "test_csv = \"/media/storage/fishcount/SER/MELD.Raw/testsplitter.csv\n",
    "\n",
    "\n",
    "\n",
    "# Create directories\n",
    "os.makedirs(train_audio, exist_ok=True)\n",
    "os.makedirs(test_audio, exist_ok=True)\n",
    "\n",
    "# ====== 1. LOAD MERGED DATA ======\n",
    "print(\"Loading merged data...\")\n",
    "df = pd.read_csv(merged_csv)\n",
    "\n",
    "# ====== 2. STRATIFIED SPLIT ======\n",
    "print(\"Performing 80/20 split...\")\n",
    "train_df, test_df = train_test_split(\n",
    "    df,\n",
    "    test_size=0.2,\n",
    "    random_state=42,\n",
    "    stratify=df['Emotion']  # Preserve emotion balance\n",
    ")\n",
    "\n",
    "# ====== 3. SAVE SPLIT CSVs ======\n",
    "print(\"Saving split CSVs...\")\n",
    "train_df.to_csv(train_csv, index=False)\n",
    "test_df.to_csv(test_csv, index=False)\n",
    "\n",
    "# ====== 4. ORGANIZE AUDIO FILES ======\n",
    "print(\"Organizing audio files...\")\n",
    "\n",
    "def copy_audio_files(df, target_dir):\n",
    "    \"\"\"Copy audio files referenced in dataframe\"\"\"\n",
    "    for _, row in tqdm(df.iterrows(), total=len(df)):\n",
    "        utt_id = str(row['Utterance_ID'])\n",
    "        src = os.path.join(combined_audio, f\"dia{row['Dialogue_ID']}_utt{utt_id}.wav\")\n",
    "        if os.path.exists(src):\n",
    "            shutil.copy2(src, target_dir)\n",
    "\n",
    "copy_audio_files(train_df, train_audio)\n",
    "copy_audio_files(test_df, test_audio)\n",
    "\n",
    "print(f\"\"\"\n",
    "✅ Successfully created split dataset:\n",
    "Train: {len(train_df)} samples | {len(os.listdir(train_audio))} audio files\n",
    "Test:  {len(test_df)} samples | {len(os.listdir(test_audio))} audio files\n",
    "\"\"\")"
   ]
  }
 ],
 "metadata": {
  "kernelspec": {
   "display_name": "ser-env3",
   "language": "python",
   "name": "python3"
  },
  "language_info": {
   "codemirror_mode": {
    "name": "ipython",
    "version": 3
   },
   "file_extension": ".py",
   "mimetype": "text/x-python",
   "name": "python",
   "nbconvert_exporter": "python",
   "pygments_lexer": "ipython3",
   "version": "3.10.16"
  },
  "orig_nbformat": 4,
  "vscode": {
   "interpreter": {
    "hash": "1bc1bb09dfd4b75b3f644893f17071b3c2f32b7c4778f5f10d63197972fcdfb3"
   }
  }
 },
 "nbformat": 4,
 "nbformat_minor": 2
}
